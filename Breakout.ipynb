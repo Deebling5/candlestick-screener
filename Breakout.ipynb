{
 "cells": [
  {
   "cell_type": "code",
   "execution_count": null,
   "metadata": {},
   "outputs": [],
   "source": [
    "import os, csv\n",
    "import yfinance as yf\n",
    "import pandas\n",
    "def snapshot():\n",
    "    with open('datasets/Book1.csv') as f:\n",
    "        for line in f:\n",
    "            if \",\" not in line:\n",
    "                continue\n",
    "            symbol = line.split(\",\")[1]\n",
    "            Name = line.split(\",\")[0]\n",
    "            #data = yf.download(symbol, start=\"2020-04-02\", end=\"2021-11-6\")\n",
    "            data = yf.download(symbol, period=\"4mo\", threads = True)\n",
    "            data.to_csv('datasets/daily/{}.csv'.format(Name))\n",
    "    return {\n",
    "        \"code\": \"success\"\n",
    "    }\n",
    "\n",
    "snapshot()"
   ]
  },
  {
   "cell_type": "code",
   "execution_count": null,
   "metadata": {},
   "outputs": [],
   "source": [
    "# valid intervals: 1m,2m,5m,15m,30m,60m,90m,1h,1d,5d,1wk,1mo,3mo\n",
    "# Valid periods : 1d, 5d, 1mo, 3mo, 6mo, 1y, 2y, 5y, 10y, ytd, max\n",
    "import yfinance as yf\n",
    "tok = yf.download('tatamotors.ns', period=\"7d\", interval='1m')\n",
    "#data = yf.download('shoperstop.ns', period=\"1d\",interval = \"1m\", threads = True)\n",
    "#close = year['Close']    \n",
    "#close[-200:].mean()\n",
    "#close[-50:].mean()\n",
    "#tok['200ma'] = tok['Adj Close'].rolling(window=200, min_periods=0).mean()\n",
    "#tok['100ma'] = tok['Adj Close'].rolling(window=100, min_periods=0).mean()\n",
    "tok"
   ]
  },
  {
   "cell_type": "code",
   "execution_count": 72,
   "metadata": {},
   "outputs": [
    {
     "name": "stdout",
     "output_type": "stream",
     "text": [
      "[*********************100%***********************]  1 of 1 completed\n"
     ]
    }
   ],
   "source": [
    "from pandas_datareader import data as pdr\n",
    "import yfinance as yf\n",
    "\n",
    "yf.pdr_override() # <== that's all it takes :-)\n",
    "\n",
    "# download dataframe using pandas_datareader\n",
    "df = pdr.get_data_yahoo(\"sunpharma.NS\", period=\"9mo\",interval='1d')\n"
   ]
  },
  {
   "cell_type": "code",
   "execution_count": 73,
   "metadata": {},
   "outputs": [],
   "source": [
    "df = df.reset_index(level='Date')"
   ]
  },
  {
   "cell_type": "code",
   "execution_count": 74,
   "metadata": {},
   "outputs": [
    {
     "data": {
      "text/html": [
       "<div>\n",
       "<style scoped>\n",
       "    .dataframe tbody tr th:only-of-type {\n",
       "        vertical-align: middle;\n",
       "    }\n",
       "\n",
       "    .dataframe tbody tr th {\n",
       "        vertical-align: top;\n",
       "    }\n",
       "\n",
       "    .dataframe thead th {\n",
       "        text-align: right;\n",
       "    }\n",
       "</style>\n",
       "<table border=\"1\" class=\"dataframe\">\n",
       "  <thead>\n",
       "    <tr style=\"text-align: right;\">\n",
       "      <th></th>\n",
       "      <th>Date</th>\n",
       "      <th>Open</th>\n",
       "      <th>High</th>\n",
       "      <th>Low</th>\n",
       "      <th>Close</th>\n",
       "      <th>Adj Close</th>\n",
       "      <th>Volume</th>\n",
       "    </tr>\n",
       "  </thead>\n",
       "  <tbody>\n",
       "    <tr>\n",
       "      <th>0</th>\n",
       "      <td>2021-06-08</td>\n",
       "      <td>673.000000</td>\n",
       "      <td>679.950012</td>\n",
       "      <td>665.099976</td>\n",
       "      <td>678.750000</td>\n",
       "      <td>671.666443</td>\n",
       "      <td>5695920</td>\n",
       "    </tr>\n",
       "    <tr>\n",
       "      <th>1</th>\n",
       "      <td>2021-06-09</td>\n",
       "      <td>681.049988</td>\n",
       "      <td>684.700012</td>\n",
       "      <td>667.599976</td>\n",
       "      <td>672.849976</td>\n",
       "      <td>665.828003</td>\n",
       "      <td>4492551</td>\n",
       "    </tr>\n",
       "    <tr>\n",
       "      <th>2</th>\n",
       "      <td>2021-06-10</td>\n",
       "      <td>673.049988</td>\n",
       "      <td>681.000000</td>\n",
       "      <td>673.000000</td>\n",
       "      <td>676.049988</td>\n",
       "      <td>668.994629</td>\n",
       "      <td>3099864</td>\n",
       "    </tr>\n",
       "    <tr>\n",
       "      <th>3</th>\n",
       "      <td>2021-06-11</td>\n",
       "      <td>675.200012</td>\n",
       "      <td>686.349976</td>\n",
       "      <td>674.049988</td>\n",
       "      <td>681.299988</td>\n",
       "      <td>674.189880</td>\n",
       "      <td>3822099</td>\n",
       "    </tr>\n",
       "    <tr>\n",
       "      <th>4</th>\n",
       "      <td>2021-06-14</td>\n",
       "      <td>682.000000</td>\n",
       "      <td>683.700012</td>\n",
       "      <td>671.549988</td>\n",
       "      <td>677.099976</td>\n",
       "      <td>670.033630</td>\n",
       "      <td>3640962</td>\n",
       "    </tr>\n",
       "    <tr>\n",
       "      <th>...</th>\n",
       "      <td>...</td>\n",
       "      <td>...</td>\n",
       "      <td>...</td>\n",
       "      <td>...</td>\n",
       "      <td>...</td>\n",
       "      <td>...</td>\n",
       "      <td>...</td>\n",
       "    </tr>\n",
       "    <tr>\n",
       "      <th>182</th>\n",
       "      <td>2022-02-28</td>\n",
       "      <td>821.000000</td>\n",
       "      <td>847.000000</td>\n",
       "      <td>821.000000</td>\n",
       "      <td>843.900024</td>\n",
       "      <td>843.900024</td>\n",
       "      <td>4123139</td>\n",
       "    </tr>\n",
       "    <tr>\n",
       "      <th>183</th>\n",
       "      <td>2022-03-02</td>\n",
       "      <td>844.349976</td>\n",
       "      <td>844.950012</td>\n",
       "      <td>815.700012</td>\n",
       "      <td>820.900024</td>\n",
       "      <td>820.900024</td>\n",
       "      <td>3807036</td>\n",
       "    </tr>\n",
       "    <tr>\n",
       "      <th>184</th>\n",
       "      <td>2022-03-03</td>\n",
       "      <td>832.799988</td>\n",
       "      <td>832.799988</td>\n",
       "      <td>817.000000</td>\n",
       "      <td>820.900024</td>\n",
       "      <td>820.900024</td>\n",
       "      <td>2657776</td>\n",
       "    </tr>\n",
       "    <tr>\n",
       "      <th>185</th>\n",
       "      <td>2022-03-04</td>\n",
       "      <td>816.299988</td>\n",
       "      <td>839.599976</td>\n",
       "      <td>809.349976</td>\n",
       "      <td>829.650024</td>\n",
       "      <td>829.650024</td>\n",
       "      <td>4082674</td>\n",
       "    </tr>\n",
       "    <tr>\n",
       "      <th>186</th>\n",
       "      <td>2022-03-07</td>\n",
       "      <td>818.000000</td>\n",
       "      <td>829.000000</td>\n",
       "      <td>809.099976</td>\n",
       "      <td>822.650024</td>\n",
       "      <td>822.650024</td>\n",
       "      <td>3065234</td>\n",
       "    </tr>\n",
       "  </tbody>\n",
       "</table>\n",
       "<p>187 rows × 7 columns</p>\n",
       "</div>"
      ],
      "text/plain": [
       "          Date        Open        High         Low       Close   Adj Close  \\\n",
       "0   2021-06-08  673.000000  679.950012  665.099976  678.750000  671.666443   \n",
       "1   2021-06-09  681.049988  684.700012  667.599976  672.849976  665.828003   \n",
       "2   2021-06-10  673.049988  681.000000  673.000000  676.049988  668.994629   \n",
       "3   2021-06-11  675.200012  686.349976  674.049988  681.299988  674.189880   \n",
       "4   2021-06-14  682.000000  683.700012  671.549988  677.099976  670.033630   \n",
       "..         ...         ...         ...         ...         ...         ...   \n",
       "182 2022-02-28  821.000000  847.000000  821.000000  843.900024  843.900024   \n",
       "183 2022-03-02  844.349976  844.950012  815.700012  820.900024  820.900024   \n",
       "184 2022-03-03  832.799988  832.799988  817.000000  820.900024  820.900024   \n",
       "185 2022-03-04  816.299988  839.599976  809.349976  829.650024  829.650024   \n",
       "186 2022-03-07  818.000000  829.000000  809.099976  822.650024  822.650024   \n",
       "\n",
       "      Volume  \n",
       "0    5695920  \n",
       "1    4492551  \n",
       "2    3099864  \n",
       "3    3822099  \n",
       "4    3640962  \n",
       "..       ...  \n",
       "182  4123139  \n",
       "183  3807036  \n",
       "184  2657776  \n",
       "185  4082674  \n",
       "186  3065234  \n",
       "\n",
       "[187 rows x 7 columns]"
      ]
     },
     "execution_count": 74,
     "metadata": {},
     "output_type": "execute_result"
    }
   ],
   "source": [
    "df.head(-1)"
   ]
  },
  {
   "cell_type": "code",
   "execution_count": 75,
   "metadata": {},
   "outputs": [],
   "source": [
    "df['100ma'] = df['Adj Close'].rolling(window=100, min_periods=0).mean()\n",
    "df['200ma'] = df['Adj Close'].rolling(window=200, min_periods=0).mean()"
   ]
  },
  {
   "cell_type": "code",
   "execution_count": 76,
   "metadata": {},
   "outputs": [
    {
     "data": {
      "text/plain": [
       "Timestamp('2022-03-08 00:00:00')"
      ]
     },
     "execution_count": 76,
     "metadata": {},
     "output_type": "execute_result"
    }
   ],
   "source": [
    "df['Date'].iloc[-1]"
   ]
  },
  {
   "cell_type": "code",
   "execution_count": 83,
   "metadata": {},
   "outputs": [
    {
     "data": {
      "text/plain": [
       "822.6500244140625"
      ]
     },
     "execution_count": 83,
     "metadata": {},
     "output_type": "execute_result"
    }
   ],
   "source": [
    "df['Adj Close'].iloc[-2]"
   ]
  },
  {
   "cell_type": "code",
   "execution_count": 84,
   "metadata": {},
   "outputs": [
    {
     "data": {
      "text/plain": [
       "818.0"
      ]
     },
     "execution_count": 84,
     "metadata": {},
     "output_type": "execute_result"
    }
   ],
   "source": [
    "df['Open'].iloc[-2]"
   ]
  },
  {
   "cell_type": "code",
   "execution_count": 85,
   "metadata": {},
   "outputs": [],
   "source": [
    "last_close = df[-2:]['Adj Close'].values[0]\n",
    "hma = df[-2:]['100ma'].values[0]\n",
    "twoma = df[-2:]['200ma'].values[0]\n",
    "per = (1/100)*last_close"
   ]
  },
  {
   "cell_type": "code",
   "execution_count": 86,
   "metadata": {},
   "outputs": [
    {
     "data": {
      "text/plain": [
       "8.226500244140626"
      ]
     },
     "execution_count": 86,
     "metadata": {},
     "output_type": "execute_result"
    }
   ],
   "source": [
    "per"
   ]
  },
  {
   "cell_type": "code",
   "execution_count": 87,
   "metadata": {},
   "outputs": [
    {
     "data": {
      "text/plain": [
       "10.998241577148406"
      ]
     },
     "execution_count": 87,
     "metadata": {},
     "output_type": "execute_result"
    }
   ],
   "source": [
    "last_close - hma"
   ]
  },
  {
   "cell_type": "code",
   "execution_count": 88,
   "metadata": {},
   "outputs": [
    {
     "data": {
      "text/plain": [
       "47.593385421018525"
      ]
     },
     "execution_count": 88,
     "metadata": {},
     "output_type": "execute_result"
    }
   ],
   "source": [
    "last_close - twoma"
   ]
  },
  {
   "cell_type": "code",
   "execution_count": null,
   "metadata": {},
   "outputs": [],
   "source": [
    "import pandas as pd\n",
    "import plotly.graph_objects as go\n",
    "from plotly.subplots import make_subplots\n",
    "\n",
    "fig = make_subplots(rows=2, cols=1, shared_xaxes=True, \n",
    "               vertical_spacing=0.03, subplot_titles=('OHLC', 'Volume'), \n",
    "               row_width=[0.2, 0.7])\n",
    "\n",
    "# Plot OHLC on 1st row\n",
    "fig.add_trace(go.Candlestick(x=data[\"Date\"], open=data[\"Open\"], high=data[\"High\"],\n",
    "                low=data[\"Low\"], close=data[\"Close\"], name=\"BHARTIARTL\"), \n",
    "                row=1, col=1\n",
    ")\n",
    "\n",
    "#px.line(df, x=\"year\", y=\"lifeExp\")\n",
    "\n",
    "# Bar trace for volumes on 2nd row without legend\n",
    "fig.add_trace(go.Bar(x=data['Date'], y=data['Volume'], showlegend=False), row=2, col=1)\n",
    "\n",
    "# Do not show OHLC's rangeslider plot \n",
    "fig.update(layout_xaxis_rangeslider_visible=False)\n",
    "fig.show()"
   ]
  },
  {
   "cell_type": "code",
   "execution_count": null,
   "metadata": {},
   "outputs": [],
   "source": [
    "has_value = ~df[\"High\"].isna()\n",
    "\n",
    "import plotly.graph_objects as go\n",
    "import pandas as pd\n",
    "from datetime import datetime\n",
    "\n",
    "#df=pd.read_csv(\"notebooks/for_so.csv\")\n",
    "fig = go.Figure(data=[go.Candlestick(x=df['Date'],\n",
    "                open=df['Open'],\n",
    "                high=df['High'],\n",
    "                low=df['Low'],\n",
    "                close=df['Close'])])\n",
    "\n",
    "fig.add_trace(\n",
    "    go.Scatter(mode = 'lines',\n",
    "               x=df[has_value]['Date'],\n",
    "        y=df[has_value][\"High\"], line={'color':'black', 'width':1}\n",
    "    ))\n",
    "\n",
    "fig.add_trace(\n",
    "    go.Scatter(mode = \"markers\",\n",
    "        x=df['Date'],\n",
    "        y=df[\"High\"]\n",
    "    ))\n",
    "\n",
    "fig.update_layout(\n",
    "    autosize=False,\n",
    "    width=1000,\n",
    "    height=800,)\n",
    "\n",
    "fig.show()"
   ]
  },
  {
   "cell_type": "code",
   "execution_count": null,
   "metadata": {},
   "outputs": [],
   "source": []
  },
  {
   "cell_type": "code",
   "execution_count": null,
   "metadata": {},
   "outputs": [],
   "source": []
  },
  {
   "cell_type": "code",
   "execution_count": null,
   "metadata": {},
   "outputs": [],
   "source": []
  },
  {
   "cell_type": "code",
   "execution_count": null,
   "metadata": {},
   "outputs": [],
   "source": []
  },
  {
   "cell_type": "code",
   "execution_count": null,
   "metadata": {},
   "outputs": [],
   "source": [
    "import os, pandas\n",
    "import pandas as pd\n",
    "Consol = []\n",
    "Break = []\n",
    "def is_consolidating(df, percentage=2):\n",
    "    recent_candlesticks = df[-10:]\n",
    "    #print(percentage)\n",
    "    max_close = recent_candlesticks['Close'].max()\n",
    "    min_close = recent_candlesticks['Close'].min()\n",
    "\n",
    "    threshold = 1 - (percentage / 100)\n",
    "    if min_close > (max_close * threshold):\n",
    "        return True        \n",
    "    \n",
    "    return False\n",
    "\n",
    "def is_breaking_out(df, percentage=3.5):\n",
    "    last_close = df[-1:]['Close'].values[0]\n",
    "\n",
    "    if is_consolidating(df[:-1], percentage=percentage):\n",
    "        recent_closes = df[-11:-1]\n",
    "\n",
    "        if last_close > recent_closes['Close'].max():\n",
    "            return True\n",
    "\n",
    "    return False\n",
    "\n",
    "for filename in os.listdir('datasets/daily'):\n",
    "    df = pandas.read_csv('datasets/daily/{}'.format(filename))\n",
    "\n",
    "    if is_consolidating(df, percentage=3.0):\n",
    "        consol = filename + \" is consolidating\"\n",
    "        Consol.append(consol)\n",
    "    if is_breaking_out(df):\n",
    "        break1 = filename + \" is Breaking Out\"\n",
    "        Break.append(break1)\n",
    "Consolidated = pd.DataFrame(Consol)\n",
    "Breakout = pd.DataFrame(Break)"
   ]
  },
  {
   "cell_type": "code",
   "execution_count": null,
   "metadata": {},
   "outputs": [],
   "source": [
    "import os, pandas\n",
    "import pandas as pd\n",
    "colab = []\n",
    "def vol_break(df):\n",
    "    recent_candlesticks = df[-15:-1]\n",
    "    global Volume\n",
    "    global last\n",
    "    Volume = int(recent_candlesticks['Volume'].mean())\n",
    "    last = df[-1:]['Volume'].values[0]\n",
    "    \n",
    "def breakout(Volume, last):\n",
    "    if last>Volume:        \n",
    "        return (Volume,last,filename)\n",
    "    \n",
    "for filename in os.listdir('datasets/daily'):\n",
    "    df = pandas.read_csv('datasets/daily/{}'.format(filename))\n",
    "     \n",
    "    consol = vol_break(df)\n",
    "    if breakout(Volume, last):\n",
    "        colab.append(filename)\n",
    "Breakout = pd.DataFrame(colab)"
   ]
  },
  {
   "cell_type": "code",
   "execution_count": null,
   "metadata": {},
   "outputs": [],
   "source": [
    "Breakout"
   ]
  },
  {
   "cell_type": "code",
   "execution_count": null,
   "metadata": {},
   "outputs": [],
   "source": [
    "import os, pandas\n",
    "import pandas as pd\n",
    "for filename in os.listdir('datasets/daily'):\n",
    "    df = pandas.read_csv('datasets/daily/{}'.format(filename))"
   ]
  },
  {
   "cell_type": "code",
   "execution_count": null,
   "metadata": {},
   "outputs": [],
   "source": []
  },
  {
   "cell_type": "markdown",
   "metadata": {},
   "source": [
    "## TA LIB"
   ]
  },
  {
   "cell_type": "code",
   "execution_count": null,
   "metadata": {},
   "outputs": [],
   "source": [
    "import pandas as pd\n",
    "import pandas_ta as ta\n",
    "\n",
    "df = pd.DataFrame() # Empty DataFrame\n",
    "\n",
    "# Load data\n",
    "#df = pd.read_csv(\"path/to/symbol.csv\", sep=\",\")\n",
    "# OR if you have yfinance installed\n",
    "df = df.ta.ticker(\"aapl\")\n",
    "\n",
    "# VWAP requires the DataFrame index to be a DatetimeIndex.\n",
    "# Replace \"datetime\" with the appropriate column from your DataFrame\n",
    "#df.set_index(pd.DatetimeIndex(df[\"dateTime\"]), inplace=True)\n",
    "\n",
    "# Calculate Returns and append to the df DataFrame\n",
    "df.ta.log_return(cumulative=True, append=True)\n",
    "df.ta.percent_return(cumulative=True, append=True)\n",
    "\n",
    "# New Columns with results\n",
    "df.columns\n",
    "\n",
    "# Take a peek\n",
    "df.tail()"
   ]
  },
  {
   "cell_type": "code",
   "execution_count": null,
   "metadata": {},
   "outputs": [],
   "source": [
    "df_p = pd.DataFrame()\n",
    "\n",
    "# Help about this, 'ta', extension\n",
    "help(df_p.ta)\n",
    "\n",
    "# List of all indicators\n",
    "df_p.ta.indicators()"
   ]
  },
  {
   "cell_type": "markdown",
   "metadata": {},
   "source": [
    "## Plotly candle"
   ]
  },
  {
   "cell_type": "code",
   "execution_count": null,
   "metadata": {},
   "outputs": [],
   "source": [
    "import pandas as pd\n",
    "import plotly.graph_objects as go\n",
    "from plotly.subplots import make_subplots\n",
    "\n",
    "# data\n",
    "df = pd.read_csv('https://raw.githubusercontent.com/plotly/datasets/master/finance-charts-apple.csv')\n",
    "\n",
    "\n",
    "# Create subplots and mention plot grid size\n",
    "fig = make_subplots(rows=2, cols=1, shared_xaxes=True, \n",
    "               vertical_spacing=0.03, subplot_titles=('OHLC', 'Volume'), \n",
    "               row_width=[0.2, 0.7])\n",
    "\n",
    "# Plot OHLC on 1st row\n",
    "fig.add_trace(go.Candlestick(x=df[\"Date\"], open=df[\"AAPL.Open\"], high=df[\"AAPL.High\"],\n",
    "                low=df[\"AAPL.Low\"], close=df[\"AAPL.Close\"], name=\"OHLC\"), \n",
    "                row=1, col=1\n",
    ")\n",
    "\n",
    "# Bar trace for volumes on 2nd row without legend\n",
    "fig.add_trace(go.Bar(x=df['Date'], y=df['AAPL.Volume'], showlegend=False), row=2, col=1)\n",
    "\n",
    "# Do not show OHLC's rangeslider plot \n",
    "fig.update(layout_xaxis_rangeslider_visible=False)\n",
    "fig.show()"
   ]
  },
  {
   "cell_type": "code",
   "execution_count": null,
   "metadata": {},
   "outputs": [],
   "source": [
    "df = pd.read_csv('https://raw.githubusercontent.com/plotly/datasets/master/finance-charts-apple.csv')\n"
   ]
  },
  {
   "cell_type": "code",
   "execution_count": null,
   "metadata": {},
   "outputs": [],
   "source": [
    "df.tail()"
   ]
  },
  {
   "cell_type": "code",
   "execution_count": null,
   "metadata": {},
   "outputs": [],
   "source": []
  },
  {
   "cell_type": "markdown",
   "metadata": {},
   "source": [
    "## Twitter"
   ]
  },
  {
   "cell_type": "code",
   "execution_count": null,
   "metadata": {},
   "outputs": [],
   "source": [
    "import streamlit as st\n",
    "import datetime\n",
    "date_since = st.date_input('Since', datetime.date(2021, 12, 20))\n",
    "\n"
   ]
  },
  {
   "cell_type": "code",
   "execution_count": null,
   "metadata": {},
   "outputs": [],
   "source": [
    "from datetime import date\n",
    "\n",
    "today = date.today()\n",
    "print(today)"
   ]
  },
  {
   "cell_type": "code",
   "execution_count": 21,
   "metadata": {},
   "outputs": [],
   "source": [
    "import pandas as pd\n",
    "df = pd.read_csv('symb.csv')"
   ]
  },
  {
   "cell_type": "code",
   "execution_count": 22,
   "metadata": {},
   "outputs": [
    {
     "name": "stdout",
     "output_type": "stream",
     "text": [
      "[nan, 'BHARTIARTL.NS', 'PRESSMN.NS', 'ABGSHIP.NS', 'BEL.NS', 'BHARATIDIL.NS', 'RDEL.NS', 'FACT.NS', 'GNFC.NS', 'ZUARIGLOB.NS', 'ZUARI.NS', 'ARIES.NS', 'GREENFIRE.NS', 'AGRITECH.NS', 'DHANUKA.NS', 'RCF.NS', 'DEEPAKFERT.NS', 'BHARATRAS.NS', 'NATHBIOGEN.NS', 'EXCELCROP.NS', 'SHARDACROP.NS', 'BAYERCROP.NS', 'GSFC.NS', 'CHAMBLFERT.NS', 'NFL.NS', 'MADRASFERT.NS', 'COROMANDEL.NS', 'UPL.NS', 'MONSANTO.NS', 'MEGH.NS', 'SPIC.NS', 'PIIND.NS', 'RALLIS.NS', 'MANGCHEFER.NS', 'INSECTICID.NS', 'CONCOR.NS', 'TCI.NS', 'ALLCARGO.NS', 'ARSHIYA.NS', 'BLUEDART.NS', 'GDL.NS', 'GATI.NS', 'SICAL.NS', 'PATINTLOG.NS', 'SNOWMAN.NS', 'NAVKARCORP.NS', 'GLOBALVECT.NS', 'GVKPIL.NS', 'NATIONALUM.NS', 'MAANALU.NS', 'CENTEXT.NS', 'HINDALCO.NS', 'TRENT.NS', 'FLFL.NS', 'JPOLYINVST.NS', 'JSWHL.NS', 'MCX.NS', 'WILLAMAGOR.NS', 'ATNINTER.NS', 'BFINVEST.NS', 'BINDALAGRO.NS', 'CREST.NS', 'NAHARCAP.NS', 'MOTILALOFS.NS', 'PNBGILTS.NS', 'TIMESGTY.NS', 'BAJAJHLDNG.NS', 'IVC.NS', 'KICL.NS', 'KIRLOSIND.NS', 'LFIC.NS', 'NSIL.NS', 'PILANIINVS.NS', 'SILINV.NS', 'INDBANK.NS', 'RELCAPITAL.NS', 'ASHOKLEY.NS', 'MARUTI.NS', 'TATAMOTORS.NS', 'ATULAUTO.NS', 'BAJAJ-AUTO.NS', 'EICHERMOT.NS', 'HEROMOTOCO.NS', 'HINDMOTORS.NS', 'SMLISUZU.NS', 'LML.NS', 'TVSMOTOR.NS', 'TATAMTRDVR.NS', 'M&M.NS', 'BOSCHLTD.NS', 'SWARAJENG.NS', 'JAMNAAUTO.NS', 'JMA.NS', 'SUBROS.NS', 'OMAXAUTO.NS', 'WABCOINDIA.NS', 'SSWL.NS', 'IMPAL.NS', 'AMTEKAUTO.NS', 'ANGIND.NS', 'ASAL.NS', 'ASAHIINDIA.NS', 'MUNJALAU.NS', 'AUTOLITIND.NS', 'PPAP.NS', 'LUMAXTECH.NS', 'AUTOAXLES.NS', 'NRBBEARING.NS', 'MENONBE.NS', 'BHARATFORG.NS', 'BHARATGEAR.NS', 'JAYBARMARU.NS', 'SUNDRMBRAK.NS', 'RBL.NS', 'DYNAMATECH.NS', 'INDNIPPON.NS', 'EXIDEIND.NS', 'SUNDRMFAST.NS', 'FMGOETZE.NS', 'HINDUJAFO.NS', 'KALYANIFRG.NS', 'UCALFUEL.NS', 'GABRIEL.NS', 'HITECHGEAR.NS', 'HARITASEAT.NS', 'HINDCOMPOS.NS', 'IGARASHI.NS', 'JBMA.NS', 'JMTAUTOLTD.NS', 'SONASTEER.NS', 'LGBBROSLTD.NS', 'MOTHERSUMI.NS', 'TUBEINVEST.NS', 'BANCOINDIA.NS', 'CASTEXTECH.NS', 'LUMAXAUTO.NS', 'LUMAXIND.NS', 'MINDACORP.NS', 'MUNJALSHOW.NS', 'RANEENGINE.NS', 'RANEHOLDIN.NS', 'RML.NS', 'RICOAUTO.NS', 'MAHSCOOTER.NS', 'SHIVAMAUTO.NS', 'SUNCLAYLTD.NS', 'SUPRAJIT.NS', 'TALBROAUTO.NS', 'WHEELS.NS', 'AUTOIND.NS', 'PRECAM.NS', 'FIEMIND.NS', 'REMSONSIND.NS', 'SDBL.NS', 'UBL.NS', 'EDL.NS', 'UBHOLDINGS.NS', 'UNITEDTEA.NS', 'MANPASAND.NS', 'IFBAGRO.NS', 'RKDL.NS', 'PIONDIST.NS', 'GLOBUSSPR.NS', 'GMBREW.NS', 'TI.NS', 'CELESTIAL.NS', 'STERLINBIO.NS', 'PANACEABIO.NS', 'DISHMAN.NS', 'LYKALABS.NS', 'SEQUENT.NS', 'ENIL.NS', 'TV18BRDCST.NS', 'SABTN.NS', 'ZEEL.NS', 'ZEEMEDIA.NS', 'JAINSTUDIO.NS', 'NDTV.NS', 'SUNTV.NS', 'RAJTV.NS', 'NETWORK18.NS', 'TVTODAY.NS', 'DEN.NS', 'TODAYS.NS', 'KOKUYOCMLN.NS', 'KTIL.NS', 'ALLSEC.NS', 'ALANKIT.NS', 'CURATECH.NS', 'DATAMATICS.NS', 'ECLERX.NS', 'FSL.NS', 'GKWLIMITED.NS', 'HEXATRADEX.NS', 'NESCO.NS', 'REPRO.NS', 'OFSS.NS', 'AGCNET.NS', 'KELLTONTEC.NS', 'MELSTAR.NS', 'PERSISTENT.NS', 'POLARIS.NS', 'AURIONPRO.NS', 'HINDUJAVEN.NS', 'HATHWAY.NS', 'DISHTV.NS', 'ORTEL.NS', 'NOCIL.NS', 'TATACHEM.NS', 'GUJALKALI.NS', 'ANDHRSUGAR.NS', 'ASTEC.NS', 'ASAHISONG.NS', 'ATUL.NS', 'BASF.NS', 'BEPL.NS', 'PHILIPCARB.NS', 'PUNJABCHEM.NS', 'DCW.NS', 'DICIND.NS', 'SHREEPUSHK.NS', 'GUJFLUORO.NS', 'NAVINFLUOR.NS', 'FOSECOIND.NS', 'GHCL.NS', 'INDIAGLYCO.NS', 'GULPOLY.NS', 'HIKAL.NS', 'HOCL.NS', 'JOCIL.NS', 'KANORICHEM.NS', 'KOTHARIPET.NS', 'VINATIORGA.NS', 'SHALPAINTS.NS', 'SUPPETRO.NS', 'TNPETRO.NS', 'MANALIPETC.NS', 'SRHHYPOLTD.NS', 'RAIN.NS', 'REFEX.NS', 'NELCO.NS', 'AKSHOPTFBR.NS', 'ASTRAMICRO.NS', 'DLINKINDIA.NS', 'HFCL.NS', 'GEMINI.NS', 'GTLINFRA.NS', 'ITI.NS', 'KAVVERITEL.NS', 'SPICEMOBI.NS', 'MRO-TEK.NS', 'SMARTLINK.NS', 'PARACABLES.NS', 'SHYAMTEL.NS', 'STRTECH.NS', 'TNTELE.NS', 'VINDHYATEL.NS', 'CEREBRAINT.NS', 'TVSELECT.NS', 'HCL-INSYS.NS', 'KOTARISUG.NS', 'KCPSUGIND.NS', 'OUDHSUG.NS', 'UGARSUGAR.NS', 'BANARISUG.NS', 'DALMIASUG.NS', 'THIRUSUGAR.NS', 'RAJSREESUG.NS', 'DWARKESH.NS', 'SKMEGGPROD.NS', 'EIDPARRY.NS', 'UPERGANGES.NS', 'BAJAJHIND.NS', 'KHAITANLTD.NS', 'KMSUGAR.NS', 'SAKHTISUG.NS', 'PONNIERODE.NS', 'RANASUG.NS', 'RENUKA.NS', 'SIMBHALS.NS', 'MAWANASUG.NS', 'PARRYSUGAR.NS', 'TRIVENI.NS', 'BALRAMCHIN.NS', 'WELENT.NS', 'ABIRLANUVO.NS', 'ALCHEM.NS', 'BALMLAWRIE.NS', 'DCMSHRIRAM.NS', 'SHK.NS', 'HOTELRUGBY.NS', '3MINDIA.NS', 'MANAKSIA.NS', 'CUBEXTUB.NS', 'HINDCOPPER.NS', 'PRECWIRE.NS', 'RECLTD.NS', 'PFC.NS', 'MUTHOOTFIN.NS', 'MAGMA.NS', 'VHL.NS', 'CHOLAFIN.NS', 'BAJFINANCE.NS', 'CGCL.NS', 'SHRIRAMCIT.NS', 'SATIN.NS', 'SRTRANSFIN.NS', 'SUNDARMFIN.NS', 'GLFL.NS', 'TCIFINANCE.NS', 'IDFC.NS', 'IFCI.NS', 'IITL.NS', 'M&MFIN.NS', 'TFCILTD.NS', 'CAPF.NS', 'L&TFH.NS', 'MANAPPURAM.NS', 'SEINV.NS', 'EUROMULTI.NS', 'MOSERBAER.NS', 'VMART.NS', 'SHOPERSTOP.NS', 'V2RETAIL.NS', 'HIRECT.NS', 'VETO.NS', 'APARINDS.NS', 'BHAGYNAGAR.NS', 'CENTUM.NS', 'MIC.NS', 'EVEREADY.NS', 'GENUSPOWER.NS', 'HBLPOWER.NS', 'HEG.NS', 'KEI.NS', 'NIPPOBATRY.NS', 'DENORA.NS', 'FINCABLES.NS', 'CORDSCABLE.NS', 'SAMTEL.NS', 'INDOTECH.NS', 'SCHNEIDER.NS', 'KIRLOSENG.NS', 'EKC.NS', 'NICCO.NS', 'SKFINDIA.NS', 'SIEMENS.NS', 'TEXRAIL.NS', 'VOLTAMP.NS', 'VESUVIUS.NS', 'ABB.NS', 'ADORWELD.NS', 'AIAENG.NS', 'AMARAJABAT.NS', 'SANGHVIFOR.NS', 'BBL.NS', 'BEML.NS', 'BHEL.NS', 'BILPOWER.NS', 'KIRLOSBROS.NS', 'CUMMINSIND.NS', 'DIAPOWER.NS', 'EASUNREYRL.NS', 'ECEIND.NS', 'EIMCOELECO.NS', 'ELGIEQUIP.NS', 'EON.NS', 'KECL.NS', 'ELECON.NS', 'EMCO.NS', 'KABRAEXTRU.NS', 'GEINDSYS.NS', 'SHANTIGEAR.NS', 'GOLDINFRA.NS', 'GREAVESCOT.NS', 'HAVELLS.NS', 'HERCULES.NS', 'IFBIND.NS', 'INDLMETER.NS', 'KCP.NS', 'KSBPUMPS.NS', 'LAXMIMACH.NS', 'LOKESHMACH.NS', 'TRF.NS', 'THERMAX.NS', 'NEPCMICON.NS', 'HONDAPOWER.NS', 'TDPOWERSYS.NS', 'PREMIER.NS', 'SHAKTIPUMP.NS', 'INGERRAND.NS', 'SUZLON.NS', 'TARAPUR.NS', 'TIL.NS', 'TIMKEN.NS', 'TRIL.NS', 'TRITURBINE.NS', 'INOXWIND.NS', 'WINDMACHIN.NS', 'HONAUT.NS', 'DELTAMAGNT.NS', 'GRAPHITE.NS', 'MANUGRAPH.NS', 'PAEL.NS', 'JPPOWER.NS', 'JSWENERGY.NS', 'KEC.NS', 'NTPC.NS', 'WEBELSOLAR.NS', 'XLENERGY.NS', 'ADANIPOWER.NS', 'SURANAT&P.NS', 'CESC.NS', 'LITL.NS', 'SURANASOL.NS', 'RPOWER.NS', 'TATAPOWER.NS', 'PTC.NS', 'RTNINFRA.NS', 'SWELECTES.NS', 'UJAAS.NS', 'INDOSOLAR.NS', 'PEL.NS', 'JUBILANT.NS', 'KOPRAN.NS', 'WANBURY.NS', 'WOCKPHARMA.NS', 'AARTIDRUGS.NS', 'ABBOTINDIA.NS', 'AJANTPHARM.NS', 'ASTRAZEN.NS', 'BAFNAPHARM.NS', 'SHARONBIO.NS', 'HESTERBIO.NS', 'BLISSGVS.NS', 'BROOKS.NS', 'CIPLA.NS', 'KILITCH.NS', 'FDC.NS', 'GLAXO.NS', 'GRANULES.NS', 'JAGSNPHARM.NS', 'JBCHEPHARM.NS', 'MOREPENLAB.NS', 'UNICHEMLAB.NS', 'INDSWFTLAB.NS', 'NECLIFE.NS', 'NATCOPHARM.NS', 'ORCHIDPHAR.NS', 'PFIZER.NS', 'SMSPHARMA.NS', 'TORNTPHARM.NS', 'VENUSREM.NS', 'AUROPHARMA.NS', 'DRREDDY.NS', 'SYNCOM.NS', 'LUPIN.NS', 'SUNPHARMA.NS', 'INDOCO.NS', 'SPARC.NS', 'ALKEM.NS', 'APLLTD.NS', 'ALEMBICLTD.NS', 'ALPA.NS', 'AMRUTANJAN.NS', 'IOLCP.NS', 'GUFICBIO.NS', 'CADILAHC.NS', 'DIVISLAB.NS', 'PARABDRUGS.NS', 'MANGALAM.NS', 'GLENMARK.NS', 'IPCALAB.NS', 'NEULANDLAB.NS', 'SUVEN.NS', 'RPGLIFE.NS', 'SHILPAMED.NS', 'PIRPHYTO.NS', 'BALPHARMA.NS', 'STAR.NS', 'THEMISMED.NS', 'MERCK.NS', 'INDSWFTLTD.NS', 'UMESLTD.NS', 'VISUINTL.NS', 'ZEELEARN.NS', 'ZENTEC.NS', 'TREEHOUSE.NS', 'APTECHT.NS', 'EDUCOMP.NS', 'MTEDUCARE.NS', 'LCCINFOTEC.NS', 'CAREERP.NS', 'COMPUSOFT.NS', 'DPSCLTD.NS', 'ENERGYDEV.NS', 'POWERGRID.NS', 'KSK.NS', 'RELINFRA.NS', 'NHPC.NS', 'AMTL.NS', 'ADANITRANS.NS', 'NBVENTURES.NS', 'KARMAENG.NS', 'GIPCL.NS', 'JYOTISTRUC.NS', 'KALPATPOWR.NS', 'GREENPOWER.NS', 'TORNTPOWER.NS', 'RTNPOWER.NS', 'SEPOWER.NS', 'SJVN.NS', 'INDOWIND.NS', 'VIDEOIND.NS', 'WHIRLPOOL.NS', 'BUTTERFLY.NS', 'BPL.NS', 'KHAITANELE.NS', 'MIRCELECTR.NS', 'BAJAJELEC.NS', 'PGEL.NS', 'PHOENIXLL.NS', 'SYMPHONY.NS', 'SALORAINTL.NS', 'NOESISIND.NS', 'VALUEIND.NS', 'VGUARD.NS', 'SHILPI.NS', 'KSERASERA.NS', 'UFO.NS', 'PNC.NS', 'ADLABS.NS', 'MUKTAARTS.NS', 'BAGFILMS.NS', 'CINEVISTA.NS', 'CREATIVEYE.NS', 'SHEMAROO.NS', 'EROSMEDIA.NS', 'PFOCUS.NS', 'INOXLEISUR.NS', 'RADAAN.NS', 'PVR.NS', 'SAREGAMA.NS', 'TIPSINDLTD.NS', 'BALAJITELE.NS', 'JISLJALEQS.NS', 'JISLDVREQS.NS', 'VSTTILLERS.NS', 'ACE.NS', 'GUJAPOLLO.NS', 'REVATHI.NS', 'ESCORTS.NS', 'HMT.NS', 'SANGHVIMOV.NS', 'SANWARIA.NS', 'SITASHREE.NS', 'KSCL.NS', 'KGL.NS', 'USHERAGRO.NS', 'AGRODUTCH.NS', 'ANANDAMRUB.NS', 'ASSAMCO.NS', 'BBTC.NS', 'DHARSUGAR.NS', 'DHAMPURSUG.NS', 'NORBTEAEXP.NS', 'SAKUMA.NS', 'HARRMALAYA.NS', 'PKTEA.NS', 'NKIND.NS', 'POCHIRAJU.NS', 'RUCHINFRA.NS', 'STEL.NS', 'PRABHAT.NS', 'RUCHISOYA.NS', 'VADILALIND.NS', 'ATFL.NS', 'GOKULAGRO.NS', 'HATSUN.NS', 'JVLAGRO.NS', 'REIAGROLTD.NS', 'GAEL.NS', 'TATAGLOBAL.NS', 'CCL.NS', 'DAAWAT.NS', 'FARMAXIND.NS', 'ADFFOODS.NS', 'KOHINOOR.NS', 'VIMALOIL.NS', 'GSKCONS.NS', 'GOKUL.NS', 'KRBL.NS', 'KWALITY.NS', 'MCLEODRUSS.NS', 'NESTLEIND.NS', 'RAJOIL.NS', 'RASOYPR.NS', 'ROSSELLIND.NS', 'TATACOFFEE.NS', 'BRITANNIA.NS', 'ANIKINDS.NS', 'HERITGFOOD.NS', 'GSPL.NS', 'GAIL.NS', 'IGL.NS', 'JKCEMENT.NS', 'VISAKAIND.NS', 'NCLIND.NS', 'ORIENTBELL.NS', 'BVCL.NS', 'ACC.NS', 'AMBUJACEM.NS', 'ANDHRACEMT.NS', 'MADHAV.NS', 'SFCL.NS', 'AROGRANITE.NS', 'ASIANTILES.NS', 'DALMIABHA.NS', 'BINANIIND.NS', 'BIRLACORPN.NS', 'BURNPUR.NS', 'ELECTCAST.NS', 'PRISMCEM.NS', 'EUROCERA.NS', 'CERA.NS', 'ULTRACEMCO.NS', 'MANGLMCEM.NS', 'SOMANYCERA.NS', 'SHREECEM.NS', 'KAKATCEM.NS', 'GSCLCEMENT.NS', 'ORIENTCEM.NS', 'MURUDCERA.NS', 'REGENCERAM.NS', 'CENTURYTEX.NS', 'JKLAKSHMI.NS', 'DECCANCE.NS', 'INDIACEM.NS', 'KAJARIACER.NS', 'HIL.NS', 'EVERESTIND.NS', 'SEZAL.NS', 'HEIDELBERG.NS', 'HSIL.NS', 'IFGLREFRAC.NS', 'JENSONICOL.NS', 'NITCO.NS', 'GRINDWELL.NS', 'OCL.NS', 'ORIENTALTL.NS', 'RAMCOIND.NS', 'SANGHIIND.NS', 'SICAGEN.NS', 'SINTEX.NS', 'CARBORUNIV.NS', 'BEARDSELL.NS', 'GRASIM.NS', 'GREENPLY.NS', 'MBECL.NS', 'KAUSHALYA.NS', 'HCC.NS', 'JAIHINDPRO.NS', 'JKIL.NS', 'KNRCON.NS', 'PRAJIND.NS', 'VOLTAS.NS', 'NBCC.NS', 'VALECHAENG.NS', 'AHLUCONT.NS', 'BLKASHYAP.NS', 'JPASSOCIAT.NS', 'ASHOKA.NS', 'AXISCADES.NS', 'BFUTILITIE.NS', 'BGRENERGY.NS', 'NOIDATOLL.NS', 'BSLIMITED.NS', 'CANDC.NS', 'CCCL.NS', 'ITDCEM.NS', 'HINDDORROL.NS', 'TECHNO.NS', 'SADBHAV.NS', 'PATELENG.NS', 'A2ZINFRA.NS', 'SHRIRAMEPC.NS', 'EXCEL.NS', 'GAMMONIND.NS', 'GAYAPROJ.NS', 'GISOLUTION.NS', 'SUNILHITEC.NS', 'INDIANHUME.NS', 'IL&FSENGG.NS', 'IVRCLINFRA.NS', 'JMCPROJECT.NS', 'LT.NS', 'PUNJLLOYD.NS', 'MANINFRA.NS', 'MBLINFRA.NS', 'MUKANDENGG.NS', 'NCC.NS', 'OMMETALS.NS', 'PBAINFRA.NS', 'PETRONENGG.NS', 'POWERMECH.NS', 'PURVA.NS', 'SIMPLEX.NS', 'VKSPL.NS', 'PRATIBHA.NS', 'PRAKASHCON.NS', 'RAMKY.NS', 'RIIL.NS', 'RPPINFRA.NS', 'SIMPLEXINF.NS', 'SKIPPER.NS', 'SKIL.NS', 'SPMLINFRA.NS', 'SUPREMEINF.NS', 'TARMAT.NS', 'TANTIACONS.NS', 'UNITY.NS', 'WALCHANNAG.NS', 'ENGINERSIN.NS', 'TECHNOFAB.NS', 'SADBHIN.NS', 'MADHUCON.NS', 'SHIRPUR-G.NS', 'REISIXTEN.NS', 'IRB.NS', 'ARSSINFRA.NS', 'ATLANTA.NS', 'GAMMNINFRA.NS', 'GMRINFRA.NS', 'IL&FSTRANS.NS', 'JPINFRATEC.NS', 'MEP.NS', 'PNCINFRA.NS', 'LAOPALA.NS', 'BLUESTARCO.NS', 'PILITA.NS', 'JIKIND.NS', 'ORIENTPPR.NS', 'TTKPRESTIG.NS', 'RUSHIL.NS', 'APOLLOHOSP.NS', 'FORTIS.NS', 'HCG.NS', 'NH.NS', 'INDRAMEDCO.NS', 'PTL.NS', 'OIL.NS', 'SVOGL.NS', 'HINDOILEXP.NS', 'SELAN.NS', 'RKFORGE.NS', 'LGBFORGE.NS', 'UNIVCABLES.NS', 'KOTHARIPRO.NS', 'HINDZINC.NS', 'ADANIENT.NS', 'METKORE.NS', 'ASHAPURMIN.NS', 'IMPEXFERRO.NS', 'GMDCLTD.NS', 'GUJNRECOKE.NS', 'RMMIL.NS', 'MOIL.NS', '20MICRONS.NS', 'MMTC.NS', 'STCINDIA.NS', 'ORISSAMINE.NS', 'VEDL.NS', 'AUSTRAL.NS', 'COALINDIA.NS', 'MERCATOR.NS', 'KPIT.NS', 'TCS.NS', 'TECHM.NS', 'MINDTREE.NS', 'NIITLTD.NS', 'ONWARDTEC.NS', 'QUINTEGRA.NS', 'WIPRO.NS', 'XCHANGING.NS', 'ZENSARTECH.NS', 'ACCELYA.NS', 'AFL.NS', 'ACROPETAL.NS', 'ADSL.NS', 'INTELLECT.NS', 'CTE.NS', 'CYBERTECH.NS', 'CYIENT.NS', 'DSSL.NS', 'NUCLEUS.NS', 'FCSSOFT.NS', 'GENESYS.NS', 'SPHEREGSL.NS', 'GOLDTECH.NS', 'SOFTTECHGR.NS', 'GSS.NS', 'GTL.NS', 'HCLTECH.NS', 'HEXAWARE.NS', 'IZMO.NS', 'TAKE.NS', 'MASTEK.NS', 'MPHASIS.NS', 'NIITTECH.NS', 'OMNITECH.NS', 'PALRED.NS', 'PANORAMUNI.NS', 'RAMCOSYS.NS', 'REDINGTON.NS', 'ROLTA.NS', 'SAKSOFT.NS', 'INFINITE.NS', 'TRICOM.NS', 'VISESHINFO.NS', 'HOVS.NS', 'INFY.NS', '3IINFOTECH.NS', 'NAUKRI.NS', 'ISFT.NS', 'LYCOS.NS', 'NET4.NS', 'ALMONDZ.NS', 'WEIZFOREX.NS', 'VLSFINANCE.NS', 'ONELIFECAP.NS', 'BIRLAMONEY.NS', 'CARERATING.NS', 'BLBLIMITED.NS', 'BLUECHIP.NS', 'DBSTOCKBRO.NS', 'CRISIL.NS', 'DHUNINV.NS', 'DPL.NS', 'EDELWEISS.NS', 'EMKAY.NS', 'RELIGARE.NS', 'CONSOFINVT.NS', 'JMFINANCIL.NS', 'HBSTOCK.NS', 'IBVENTURES.NS', 'ICRA.NS', 'IIFL.NS', 'KEYCORPSER.NS', 'KHANDSE.NS', 'PRIMESECU.NS', 'MCDHOLDING.NS', 'INVENTURE.NS', 'SUMMITSEC.NS', 'TATAINVEST.NS', 'INDOTHAI.NS', 'AUSOMENT.NS', 'GOENKA.NS', 'ZODJRDMKJ.NS', 'PCJEWELLER.NS', 'TARAJEWELS.NS', 'VAIBHAVGBL.NS', 'TBZ.NS', 'RAJESHEXPO.NS', 'SGJHL.NS', 'LYPSAGEMS.NS', 'GITANJALI.NS', 'GOLDIAM.NS', 'RJL.NS', 'THANGAMAYL.NS', 'KDDL.NS', 'TITAN.NS', 'SHRENUJ.NS', 'SRSLTD.NS', 'SURANACORP.NS', 'MFSL.NS', 'ROHLTD.NS', 'HOTELEELA.NS', 'ADVANIHOTR.NS', 'AHLWEST.NS', 'AHLEAST.NS', 'TGBHOTELS.NS', 'APOLSINHOT.NS', 'EIHAHOTELS.NS', 'ASIANHOTNR.NS', 'BLUECOAST.NS', 'THEBYKE.NS', 'EIHOTEL.NS', 'TAJGVK.NS', 'KAMATHOTEL.NS', 'ORIENTHOT.NS', 'VICEROY.NS', 'INDHOTEL.NS', 'UNIPLY.NS', 'ARCHIDPLY.NS', 'CENTURYPLY.NS', 'MANGTIMBER.NS', 'WENDT.NS', 'NIBL.NS', 'ESABINDIA.NS', 'LAKPRE.NS', 'STERTOOLS.NS', 'TIIL.NS', 'JETAIRWAYS.NS', 'INDIGO.NS', 'CAIRN.NS', 'ONGC.NS', 'OPTOCIRCUI.NS', 'POLYMED.NS', 'VIMTALABS.NS', 'LALPATHLAB.NS', 'ZENITHBIR.NS', 'NELCAST.NS', 'ALICON.NS', 'ARCOTECH.NS', 'BILENERGY.NS', 'PENPEBS.NS', 'MAHINDCIE.NS', 'ELECTHERM.NS', 'ROHITFERRO.NS', 'SGFL.NS', 'MMFL.NS', 'METALFORGE.NS', 'HILTON.NS', 'GANDHITUBE.NS', 'GOODLUCK.NS', 'GRAVITA.NS', 'ORIENTREF.NS', 'SRIPIPES.NS', 'PSL.NS', 'SBIN.NS', 'MAHABANK.NS', 'IDBI.NS', 'J&KBANK.NS', 'KOTAKBANK.NS', 'YESBANK.NS', 'SOUTHBANK.NS', 'UNIONBANK.NS', 'BANKINDIA.NS', 'CUB.NS', 'ALBK.NS', 'ANDHRABANK.NS', 'AXISBANK.NS', 'ICICIBANK.NS', 'CANBK.NS', 'INDIANB.NS', 'IDFCBANK.NS', 'HDFCBANK.NS', 'ORIENTBANK.NS', 'CENTRALBK.NS', 'DCBBANK.NS', 'DHANBANK.NS', 'FEDERALBNK.NS', 'IOB.NS', 'KARURVYSYA.NS', 'KTKBANK.NS', 'LAKSHVILAS.NS', 'INDUSINDBK.NS', 'PNB.NS', 'UNITEDBNK.NS', 'BANKBARODA.NS', 'PSB.NS', 'SYNDIBANK.NS', 'UCOBANK.NS', 'VIJAYABANK.NS', 'CORPBANK.NS', 'DENABANK.NS', 'HDFC.NS', 'LICHSGFIN.NS', 'PFS.NS', 'DHFL.NS', 'IBULHSGFIN.NS', 'GICHSGFIN.NS', 'SREINFRA.NS', 'TFL.NS', 'CANFINHOME.NS', 'GRUH.NS', 'REPCOHOME.NS', 'DQE.NS', 'ABAN.NS', 'JINDRILL.NS', 'ALPHAGEO.NS', 'DEEPIND.NS', 'DOLPHINOFF.NS', 'GTOFFSHORE.NS', 'OILCOUNTUB.NS', 'BPCL.NS', 'RELIANCE.NS', 'TIDEWATER.NS', 'MRPL.NS', 'GULFPETRO.NS', 'GULFOILLUB.NS', 'IOC.NS', 'PETRONET.NS', 'NAGAROIL.NS', 'PANAMAPET.NS', 'CHENNPETRO.NS', 'UFLEX.NS', 'ESSDEE.NS', 'AMDIND.NS', 'ANTGRAPHIC.NS', 'EMMBI.NS', 'NAHARPOLY.NS', 'HINDNATGLS.NS', 'PAPERPROD.NS', 'SHREERAMA.NS', 'ORIENTLTD.NS', 'PARAPRINT.NS', 'PDMJEPAPER.NS', 'PEARLPOLY.NS', 'POLYPLEX.NS', 'RMCL.NS', 'TIMETECHNO.NS', 'COSMOFILMS.NS', 'JKPAPER.NS', 'MAGNUM.NS', 'RAMANEWS.NS', 'WSTCSTPAPR.NS', 'SESHAPAPER.NS', 'BALLARPUR.NS', 'GENUSPAPER.NS', 'IPAPPM.NS', 'MALUPAPER.NS', 'PDUMJEPULP.NS', 'SUNDARAM.NS', 'TNPL.NS', 'RAINBOWPAP.NS', 'SERVALL.NS', 'STARPAPER.NS', 'RUCHIRA.NS', 'SHREYANIND.NS', 'DABUR.NS', 'HINDUNILVR.NS', 'JYOTHYLAB.NS', 'ZYDUSWELL.NS', 'PGHH.NS', 'BAJAJCORP.NS', 'EMAMILTD.NS', 'GILLETTE.NS', 'JHS.NS', 'KAYA.NS', 'MARICO.NS', 'COLPAL.NS', 'BAJAJFINSV.NS', 'OBEROIRLTY.NS', 'AJMERA.NS', 'ANANTRAJ.NS', 'ANSALHSG.NS', 'CINELINE.NS', 'EMAMIINFRA.NS', 'IBREALEST.NS', 'FMNL.NS', 'MOTOGENFIN.NS', 'PDUMJEIND.NS', 'BRIGADE.NS', 'TEXINFRA.NS', 'JAGRAN.NS', 'HMVL.NS', 'CYBERMEDIA.NS', 'DBCORP.NS', 'NAVNETEDUL.NS', 'HTMEDIA.NS', 'INFOMEDIA.NS', 'SAMBHAAV.NS', 'MPSLTD.NS', 'NEXTMEDIA.NS', 'SANDESH.NS', 'NECCLTD.NS', 'CEBBCO.NS', 'TWL.NS', 'TCIDEVELOP.NS', 'MAHLIFE.NS', 'LPDC.NS', 'HDIL.NS', 'ORBITCORP.NS', 'OMAXE.NS', 'UNITECH.NS', 'GEECEE.NS', 'ZANDUREALT.NS', 'ANSALAPI.NS', 'ARIHANT.NS', 'ASHIANA.NS', 'BSELINFRA.NS', 'GANESHHOUC.NS', 'DBREALTY.NS', 'DLF.NS', 'DSKULKARNI.NS', 'NITESHEST.NS', 'PRESTIGE.NS', 'GODREJPROP.NS', 'HUBTOWN.NS', 'KOLTEPATIL.NS', 'PENINLAND.NS', 'COUNCODOS.NS', 'PHOENIXLTD.NS', 'MVL.NS', 'TECHIN.NS', 'PVP.NS', 'SOBHA.NS', 'SUNTECK.NS', 'PRAENG.NS', 'VIPUL.NS', 'PROZONINTU.NS', 'JINDALPHOT.NS', 'WONDERLA.NS', 'COX&KINGS.NS', 'ATLASCYCLE.NS', 'TALWALKARS.NS', 'KANANIIND.NS', 'THOMASCOOK.NS', 'BDR.NS', 'VIJSHAN.NS', 'CCHHL.NS', 'DELTACORP.NS', 'GIRRESORTS.NS', 'MHRIL.NS', 'JUBLFOOD.NS', 'COFFEEDAY.NS', 'SPECIALITY.NS', 'JUBLINDS.NS', 'JAICORPLTD.NS', 'MRF.NS', 'TAINWALCHM.NS', 'APOLLOTYRE.NS', 'APCOTEXIND.NS', 'ASTRAL.NS', 'CEATLTD.NS', 'ELGIRUBCO.NS', 'ESTER.NS', 'TULSI.NS', 'KEMROCK.NS', 'FLEXITUFF.NS', 'KESORAMIND.NS', 'PITTILAM.NS', 'TIJARIA.NS', 'NILKAMAL.NS', 'SIGNETIND.NS', 'TEXMOPIPES.NS', 'PREMIERPOL.NS', 'TVSSRICHAK.NS', 'SUPREMEIND.NS', 'TOKYOPLAST.NS', 'BALKRISIND.NS', 'GRPLTD.NS', 'RESPONIND.NS', 'BARTRONICS.NS', 'ZICOM.NS', 'NITINFIRE.NS', 'ADANIPORTS.NS', 'DREDGECORP.NS', 'GESHIP.NS', 'ESSARSHPNG.NS', 'GLOBOFFS.NS', 'GPPL.NS', 'SHREYAS.NS', 'SCI.NS', 'SEAMECLTD.NS', 'JAYAGROGN.NS', 'KANSAINER.NS', 'XPROINDIA.NS', 'VINYLINDIA.NS', 'AARTIIND.NS', 'ORIENTABRA.NS', 'AGARIND.NS', 'AKZOINDIA.NS', 'ALKALI.NS', 'CHEMFALKAL.NS', 'ALKYLAMINE.NS', 'BALAMINES.NS', 'ASIANPAINT.NS', 'SHRIASTER.NS', 'AVTNPL.NS', 'BERGEPAINT.NS', 'BODALCHEM.NS', 'GOACARBON.NS', 'CASTROLIND.NS', 'SUDARSCHEM.NS', 'CLNINDIA.NS', 'CHROMATIC.NS', 'TIRUMALCHM.NS', 'VIKASECO.NS', 'EXCELINDUS.NS', 'IGPL.NS', 'IVP.NS', 'JINDALPOLY.NS', 'KIRIINDUS.NS', 'VIVIMEDLAB.NS', 'SOTL.NS', 'OMKARCHEM.NS', 'PIDILITIND.NS', 'PLASTIBLEN.NS', 'VISHNU.NS', 'LINDEINDIA.NS', 'ARCHIES.NS', 'HGS.NS', 'TEAMLEASE.NS', 'JINDALSAW.NS', 'JAIBALAJI.NS', 'KSL.NS', 'TATASTEEL.NS', 'SURANAIND.NS', 'SUJANAUNI.NS', 'NMDC.NS', 'UTTAMVALUE.NS', 'UTTAMSTL.NS', 'USHAMART.NS', 'VASWANI.NS', 'ADHUNIK.NS', 'NATNLSTEEL.NS', 'IMFA.NS', 'SALSTEEL.NS', 'SHAHALLOYS.NS', 'MAITHANALL.NS', 'GAL.NS', 'ANKITMETAL.NS', 'OISL.NS', 'MONNETISPA.NS', 'APLAPOLLO.NS', 'BEDMUTHA.NS', 'BHARATWIRE.NS', 'BHUSANSTL.NS', 'ESL.NS', 'GALLISPAT.NS', 'GALLANTT.NS', 'GPIL.NS', 'TATASPONGE.NS', 'SUNFLAG.NS', 'ISMTLTD.NS', 'SATHAISPAT.NS', 'JAYNECOIND.NS', 'JSLHISAR.NS', 'JINDALSTEL.NS', 'JSL.NS', 'KAMDHENU.NS', 'MANINDS.NS', 'SMPL.NS', 'RATNAMANI.NS', 'SARDAEN.NS', 'MSPL.NS', 'MUKANDLTD.NS', 'TINPLATE.NS', 'SAIL.NS', 'PENIND.NS', 'PRAKASHSTL.NS', 'RAMASTEEL.NS', 'RAMSARUP.NS', 'SURYAROSNI.NS', 'MAHSEAMLES.NS', 'VSSL.NS', 'VISASTEEL.NS', 'TATAMETALI.NS', 'WELCORP.NS', 'PRAKASH.NS', 'TATAELXSI.NS', 'SASKEN.NS', 'TRIGYN.NS', 'MEGASOFT.NS', 'ZYLOG.NS', 'SQSBFSI.NS', 'BGLOBAL.NS', 'FINANTECH.NS', 'ICSA.NS', 'KERNEX.NS', 'RSSOFTWARE.NS', 'CALSOFT.NS', '8KMILES.NS', 'SUBEX.NS', 'TANLA.NS', 'VAKRANGEE.NS', 'KPRMILL.NS', 'KITEX.NS', 'BANG.NS', 'ZODIACLOTH.NS', 'ABFRL.NS', 'AIFL.NS', 'CELEBRITY.NS', 'KKCL.NS', 'GOKEX.NS', 'PDSMFL.NS', 'MONTECARLO.NS', 'INDTERRAIN.NS', 'INTEGRA.NS', 'PGIL.NS', 'LOVABLE.NS', 'LUXIND.NS', 'PAGEIND.NS', 'PROVOGE.NS', 'RUPA.NS', 'THOMASCOTT.NS', 'SPLIL.NS', 'SUDAR.NS', 'CANTABIL.NS', 'SELMCL.NS', 'MANDHANA.NS', 'VIPIND.NS', 'BANARBEADS.NS', 'BIL.NS', 'RELAXO.NS', 'MIRZAINT.NS', 'LIBERTSHOE.NS', 'SREEL.NS', 'SUPERHOUSE.NS', 'BATAINDIA.NS', 'JINDCOT.NS', 'JBFIND.NS', 'JINDWORLD.NS', 'ICIL.NS', 'FIRSTWIN.NS', 'WELSPUNIND.NS', 'RAIREKMOH.NS', 'WINSOME.NS', 'ZENITHEXPO.NS', 'AARVEEDEN.NS', 'VARDHACRLC.NS', 'AICHAMP.NS', 'ALOKTEXT.NS', 'ALPSINDUS.NS', 'AMBIKCO.NS', 'BASML.NS', 'ASIL.NS', 'EUROTEXIND.NS', 'SUTLEJTEX.NS', 'WELINV.NS', 'ELAND.NS', 'ARVIND.NS', 'ARROWTEX.NS', 'GILLANDERS.NS', 'ASHIMASYN.NS', 'AYMSYNTEX.NS', 'BIRLACOT.NS', 'BOMDYEING.NS', 'BSL.NS', 'CENTENKA.NS', 'CNOVAPETRO.NS', 'INDIANCARD.NS', 'DCM.NS', 'NDL.NS', 'DONEAR.NS', 'EASTSILK.NS', 'PIONEEREMB.NS', 'NAGREEKEXP.NS', 'ORBTEXP.NS', 'SARLAPOLY.NS', 'FILATEX.NS', 'GARDENSILK.NS', 'GANGOTRI.NS', 'GARWALLROP.NS', 'GINNIFILA.NS', 'SGL.NS', 'GTNTEX.NS', 'HANUNG.NS', 'HINDSYNTEX.NS', 'HIMATSEIDE.NS', 'LAMBODHARA.NS', 'MALWACOTT.NS', 'PRECOT.NS', 'SURYAJYOTI.NS', 'MORARJEE.NS', 'MOHITIND.NS', 'NAKODA.NS', 'NAHARSPING.NS', 'NAHARINDUS.NS', 'NITINSPIN.NS', 'MARALOVER.NS', 'PRADIP.NS', 'PATSPINLTD.NS', 'PARASPETRO.NS', 'VARDMNPOLY.NS', 'VIVIDHA.NS', 'SPYL.NS', 'RAJVIR.NS', 'RAJRAYON.NS', 'RAYMOND.NS', 'INDORAMA.NS', 'RSWM.NS', 'RUBYMILLS.NS', 'SANGAMIND.NS', 'SHIVTEX.NS', 'SIYSIL.NS', 'SIL.NS', 'SOMATEX.NS', 'SPENTEX.NS', 'SRF.NS', 'STINDIA.NS', 'SUMEETINDS.NS', 'SUPERSPIN.NS', 'SURYALAXMI.NS', 'SUPREMETEX.NS', 'SWANENERGY.NS', 'BANSWRAS.NS', 'TTL.NS', 'MAYURUNIQ.NS', 'VTL.NS', 'WEIZMANIND.NS', 'SALONACOT.NS', 'TRIDENT.NS', 'VSTIND.NS', 'GOLDENTOBC.NS', 'GODFRYPHLP.NS', 'ITC.NS', 'VRLLOG.NS', 'GANECOS.NS', 'WABAG.NS', 'INFRATEL.NS', 'IDEA.NS', 'ONMOBILE.NS', 'TTML.NS', 'TATACOMM.NS', 'MTNL.NS', 'NUTEK.NS', 'RCOM.NS']\n"
     ]
    }
   ],
   "source": [
    "list1 = df['Symbol'].tolist()\n",
    "print(list1)"
   ]
  },
  {
   "cell_type": "code",
   "execution_count": null,
   "metadata": {},
   "outputs": [],
   "source": []
  }
 ],
 "metadata": {
  "interpreter": {
   "hash": "b3ba2566441a7c06988d0923437866b63cedc61552a5af99d1f4fb67d367b25f"
  },
  "kernelspec": {
   "display_name": "Python 3",
   "language": "python",
   "name": "python3"
  },
  "language_info": {
   "codemirror_mode": {
    "name": "ipython",
    "version": 3
   },
   "file_extension": ".py",
   "mimetype": "text/x-python",
   "name": "python",
   "nbconvert_exporter": "python",
   "pygments_lexer": "ipython3",
   "version": "3.7.6"
  }
 },
 "nbformat": 4,
 "nbformat_minor": 4
}
